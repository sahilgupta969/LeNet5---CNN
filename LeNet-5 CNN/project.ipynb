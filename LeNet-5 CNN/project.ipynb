{
 "cells": [
  {
   "cell_type": "code",
   "execution_count": 1,
   "metadata": {},
   "outputs": [],
   "source": [
    "import numpy as np\n",
    "import pandas as pd"
   ]
  },
  {
   "cell_type": "code",
   "execution_count": 4,
   "metadata": {},
   "outputs": [],
   "source": [
    "from tensorflow.keras import datasets"
   ]
  },
  {
   "cell_type": "code",
   "execution_count": 5,
   "metadata": {},
   "outputs": [
    {
     "name": "stdout",
     "output_type": "stream",
     "text": [
      "Downloading data from https://storage.googleapis.com/tensorflow/tf-keras-datasets/mnist.npz\n",
      "\u001b[1m11490434/11490434\u001b[0m \u001b[32m━━━━━━━━━━━━━━━━━━━━\u001b[0m\u001b[37m\u001b[0m \u001b[1m101s\u001b[0m 9us/step\n"
     ]
    }
   ],
   "source": [
    "(x_train,y_train),(x_test,y_test) = datasets.mnist.load_data()"
   ]
  },
  {
   "cell_type": "code",
   "execution_count": 6,
   "metadata": {},
   "outputs": [
    {
     "data": {
      "text/plain": [
       "array([[[0, 0, 0, ..., 0, 0, 0],\n",
       "        [0, 0, 0, ..., 0, 0, 0],\n",
       "        [0, 0, 0, ..., 0, 0, 0],\n",
       "        ...,\n",
       "        [0, 0, 0, ..., 0, 0, 0],\n",
       "        [0, 0, 0, ..., 0, 0, 0],\n",
       "        [0, 0, 0, ..., 0, 0, 0]],\n",
       "\n",
       "       [[0, 0, 0, ..., 0, 0, 0],\n",
       "        [0, 0, 0, ..., 0, 0, 0],\n",
       "        [0, 0, 0, ..., 0, 0, 0],\n",
       "        ...,\n",
       "        [0, 0, 0, ..., 0, 0, 0],\n",
       "        [0, 0, 0, ..., 0, 0, 0],\n",
       "        [0, 0, 0, ..., 0, 0, 0]],\n",
       "\n",
       "       [[0, 0, 0, ..., 0, 0, 0],\n",
       "        [0, 0, 0, ..., 0, 0, 0],\n",
       "        [0, 0, 0, ..., 0, 0, 0],\n",
       "        ...,\n",
       "        [0, 0, 0, ..., 0, 0, 0],\n",
       "        [0, 0, 0, ..., 0, 0, 0],\n",
       "        [0, 0, 0, ..., 0, 0, 0]],\n",
       "\n",
       "       ...,\n",
       "\n",
       "       [[0, 0, 0, ..., 0, 0, 0],\n",
       "        [0, 0, 0, ..., 0, 0, 0],\n",
       "        [0, 0, 0, ..., 0, 0, 0],\n",
       "        ...,\n",
       "        [0, 0, 0, ..., 0, 0, 0],\n",
       "        [0, 0, 0, ..., 0, 0, 0],\n",
       "        [0, 0, 0, ..., 0, 0, 0]],\n",
       "\n",
       "       [[0, 0, 0, ..., 0, 0, 0],\n",
       "        [0, 0, 0, ..., 0, 0, 0],\n",
       "        [0, 0, 0, ..., 0, 0, 0],\n",
       "        ...,\n",
       "        [0, 0, 0, ..., 0, 0, 0],\n",
       "        [0, 0, 0, ..., 0, 0, 0],\n",
       "        [0, 0, 0, ..., 0, 0, 0]],\n",
       "\n",
       "       [[0, 0, 0, ..., 0, 0, 0],\n",
       "        [0, 0, 0, ..., 0, 0, 0],\n",
       "        [0, 0, 0, ..., 0, 0, 0],\n",
       "        ...,\n",
       "        [0, 0, 0, ..., 0, 0, 0],\n",
       "        [0, 0, 0, ..., 0, 0, 0],\n",
       "        [0, 0, 0, ..., 0, 0, 0]]], dtype=uint8)"
      ]
     },
     "execution_count": 6,
     "metadata": {},
     "output_type": "execute_result"
    }
   ],
   "source": [
    "x_train"
   ]
  },
  {
   "cell_type": "code",
   "execution_count": 7,
   "metadata": {},
   "outputs": [
    {
     "data": {
      "text/plain": [
       "(60000, 28, 28)"
      ]
     },
     "execution_count": 7,
     "metadata": {},
     "output_type": "execute_result"
    }
   ],
   "source": [
    "x_train.shape"
   ]
  },
  {
   "cell_type": "code",
   "execution_count": 8,
   "metadata": {},
   "outputs": [
    {
     "data": {
      "text/plain": [
       "(10000, 28, 28)"
      ]
     },
     "execution_count": 8,
     "metadata": {},
     "output_type": "execute_result"
    }
   ],
   "source": [
    "x_test.shape"
   ]
  },
  {
   "cell_type": "code",
   "execution_count": 9,
   "metadata": {},
   "outputs": [],
   "source": [
    "width,height = 28,28\n",
    "input_shape = (width,height, 1)"
   ]
  },
  {
   "cell_type": "code",
   "execution_count": 10,
   "metadata": {},
   "outputs": [
    {
     "data": {
      "text/plain": [
       "(28, 28, 1)"
      ]
     },
     "execution_count": 10,
     "metadata": {},
     "output_type": "execute_result"
    }
   ],
   "source": [
    "input_shape"
   ]
  },
  {
   "cell_type": "code",
   "execution_count": 14,
   "metadata": {},
   "outputs": [],
   "source": [
    "x_train = x_train.reshape(x_train.shape[0],height,width, 1)\n",
    "x_test = x_test.reshape(x_test.shape[0],height,width, 1)"
   ]
  },
  {
   "cell_type": "code",
   "execution_count": 15,
   "metadata": {},
   "outputs": [
    {
     "data": {
      "text/plain": [
       "(60000, 28, 28, 1)"
      ]
     },
     "execution_count": 15,
     "metadata": {},
     "output_type": "execute_result"
    }
   ],
   "source": [
    "x_train.shape"
   ]
  },
  {
   "cell_type": "code",
   "execution_count": 16,
   "metadata": {},
   "outputs": [
    {
     "data": {
      "text/plain": [
       "(10000, 28, 28, 1)"
      ]
     },
     "execution_count": 16,
     "metadata": {},
     "output_type": "execute_result"
    }
   ],
   "source": [
    "x_test.shape"
   ]
  },
  {
   "cell_type": "code",
   "execution_count": 17,
   "metadata": {},
   "outputs": [
    {
     "data": {
      "text/plain": [
       "(60000,)"
      ]
     },
     "execution_count": 17,
     "metadata": {},
     "output_type": "execute_result"
    }
   ],
   "source": [
    "y_train.shape"
   ]
  },
  {
   "cell_type": "code",
   "execution_count": 18,
   "metadata": {},
   "outputs": [],
   "source": [
    "from sklearn.model_selection import train_test_split\n",
    "x_train,x_val,y_train,y_val = train_test_split(x_train,y_train,test_size = 0.1)"
   ]
  },
  {
   "cell_type": "code",
   "execution_count": 20,
   "metadata": {},
   "outputs": [
    {
     "data": {
      "text/plain": [
       "54000"
      ]
     },
     "execution_count": 20,
     "metadata": {},
     "output_type": "execute_result"
    }
   ],
   "source": [
    "len(x_train)"
   ]
  },
  {
   "cell_type": "code",
   "execution_count": 21,
   "metadata": {},
   "outputs": [],
   "source": [
    "x_train = (x_train - x_train.mean()) / x_train.std()\n",
    "x_val = (x_val - x_val.mean()) / x_val.std()\n",
    "x_test = (x_test - x_test.mean()) / x_test.std()"
   ]
  },
  {
   "cell_type": "code",
   "execution_count": 22,
   "metadata": {},
   "outputs": [
    {
     "data": {
      "text/plain": [
       "array([[[[-0.42405003],\n",
       "         [-0.42405003],\n",
       "         [-0.42405003],\n",
       "         ...,\n",
       "         [-0.42405003],\n",
       "         [-0.42405003],\n",
       "         [-0.42405003]],\n",
       "\n",
       "        [[-0.42405003],\n",
       "         [-0.42405003],\n",
       "         [-0.42405003],\n",
       "         ...,\n",
       "         [-0.42405003],\n",
       "         [-0.42405003],\n",
       "         [-0.42405003]],\n",
       "\n",
       "        [[-0.42405003],\n",
       "         [-0.42405003],\n",
       "         [-0.42405003],\n",
       "         ...,\n",
       "         [-0.42405003],\n",
       "         [-0.42405003],\n",
       "         [-0.42405003]],\n",
       "\n",
       "        ...,\n",
       "\n",
       "        [[-0.42405003],\n",
       "         [-0.42405003],\n",
       "         [-0.42405003],\n",
       "         ...,\n",
       "         [-0.42405003],\n",
       "         [-0.42405003],\n",
       "         [-0.42405003]],\n",
       "\n",
       "        [[-0.42405003],\n",
       "         [-0.42405003],\n",
       "         [-0.42405003],\n",
       "         ...,\n",
       "         [-0.42405003],\n",
       "         [-0.42405003],\n",
       "         [-0.42405003]],\n",
       "\n",
       "        [[-0.42405003],\n",
       "         [-0.42405003],\n",
       "         [-0.42405003],\n",
       "         ...,\n",
       "         [-0.42405003],\n",
       "         [-0.42405003],\n",
       "         [-0.42405003]]],\n",
       "\n",
       "\n",
       "       [[[-0.42405003],\n",
       "         [-0.42405003],\n",
       "         [-0.42405003],\n",
       "         ...,\n",
       "         [-0.42405003],\n",
       "         [-0.42405003],\n",
       "         [-0.42405003]],\n",
       "\n",
       "        [[-0.42405003],\n",
       "         [-0.42405003],\n",
       "         [-0.42405003],\n",
       "         ...,\n",
       "         [-0.42405003],\n",
       "         [-0.42405003],\n",
       "         [-0.42405003]],\n",
       "\n",
       "        [[-0.42405003],\n",
       "         [-0.42405003],\n",
       "         [-0.42405003],\n",
       "         ...,\n",
       "         [-0.42405003],\n",
       "         [-0.42405003],\n",
       "         [-0.42405003]],\n",
       "\n",
       "        ...,\n",
       "\n",
       "        [[-0.42405003],\n",
       "         [-0.42405003],\n",
       "         [-0.42405003],\n",
       "         ...,\n",
       "         [-0.42405003],\n",
       "         [-0.42405003],\n",
       "         [-0.42405003]],\n",
       "\n",
       "        [[-0.42405003],\n",
       "         [-0.42405003],\n",
       "         [-0.42405003],\n",
       "         ...,\n",
       "         [-0.42405003],\n",
       "         [-0.42405003],\n",
       "         [-0.42405003]],\n",
       "\n",
       "        [[-0.42405003],\n",
       "         [-0.42405003],\n",
       "         [-0.42405003],\n",
       "         ...,\n",
       "         [-0.42405003],\n",
       "         [-0.42405003],\n",
       "         [-0.42405003]]],\n",
       "\n",
       "\n",
       "       [[[-0.42405003],\n",
       "         [-0.42405003],\n",
       "         [-0.42405003],\n",
       "         ...,\n",
       "         [-0.42405003],\n",
       "         [-0.42405003],\n",
       "         [-0.42405003]],\n",
       "\n",
       "        [[-0.42405003],\n",
       "         [-0.42405003],\n",
       "         [-0.42405003],\n",
       "         ...,\n",
       "         [-0.42405003],\n",
       "         [-0.42405003],\n",
       "         [-0.42405003]],\n",
       "\n",
       "        [[-0.42405003],\n",
       "         [-0.42405003],\n",
       "         [-0.42405003],\n",
       "         ...,\n",
       "         [-0.42405003],\n",
       "         [-0.42405003],\n",
       "         [-0.42405003]],\n",
       "\n",
       "        ...,\n",
       "\n",
       "        [[-0.42405003],\n",
       "         [-0.42405003],\n",
       "         [-0.42405003],\n",
       "         ...,\n",
       "         [-0.42405003],\n",
       "         [-0.42405003],\n",
       "         [-0.42405003]],\n",
       "\n",
       "        [[-0.42405003],\n",
       "         [-0.42405003],\n",
       "         [-0.42405003],\n",
       "         ...,\n",
       "         [-0.42405003],\n",
       "         [-0.42405003],\n",
       "         [-0.42405003]],\n",
       "\n",
       "        [[-0.42405003],\n",
       "         [-0.42405003],\n",
       "         [-0.42405003],\n",
       "         ...,\n",
       "         [-0.42405003],\n",
       "         [-0.42405003],\n",
       "         [-0.42405003]]],\n",
       "\n",
       "\n",
       "       ...,\n",
       "\n",
       "\n",
       "       [[[-0.42405003],\n",
       "         [-0.42405003],\n",
       "         [-0.42405003],\n",
       "         ...,\n",
       "         [-0.42405003],\n",
       "         [-0.42405003],\n",
       "         [-0.42405003]],\n",
       "\n",
       "        [[-0.42405003],\n",
       "         [-0.42405003],\n",
       "         [-0.42405003],\n",
       "         ...,\n",
       "         [-0.42405003],\n",
       "         [-0.42405003],\n",
       "         [-0.42405003]],\n",
       "\n",
       "        [[-0.42405003],\n",
       "         [-0.42405003],\n",
       "         [-0.42405003],\n",
       "         ...,\n",
       "         [-0.42405003],\n",
       "         [-0.42405003],\n",
       "         [-0.42405003]],\n",
       "\n",
       "        ...,\n",
       "\n",
       "        [[-0.42405003],\n",
       "         [-0.42405003],\n",
       "         [-0.42405003],\n",
       "         ...,\n",
       "         [-0.42405003],\n",
       "         [-0.42405003],\n",
       "         [-0.42405003]],\n",
       "\n",
       "        [[-0.42405003],\n",
       "         [-0.42405003],\n",
       "         [-0.42405003],\n",
       "         ...,\n",
       "         [-0.42405003],\n",
       "         [-0.42405003],\n",
       "         [-0.42405003]],\n",
       "\n",
       "        [[-0.42405003],\n",
       "         [-0.42405003],\n",
       "         [-0.42405003],\n",
       "         ...,\n",
       "         [-0.42405003],\n",
       "         [-0.42405003],\n",
       "         [-0.42405003]]],\n",
       "\n",
       "\n",
       "       [[[-0.42405003],\n",
       "         [-0.42405003],\n",
       "         [-0.42405003],\n",
       "         ...,\n",
       "         [-0.42405003],\n",
       "         [-0.42405003],\n",
       "         [-0.42405003]],\n",
       "\n",
       "        [[-0.42405003],\n",
       "         [-0.42405003],\n",
       "         [-0.42405003],\n",
       "         ...,\n",
       "         [-0.42405003],\n",
       "         [-0.42405003],\n",
       "         [-0.42405003]],\n",
       "\n",
       "        [[-0.42405003],\n",
       "         [-0.42405003],\n",
       "         [-0.42405003],\n",
       "         ...,\n",
       "         [-0.42405003],\n",
       "         [-0.42405003],\n",
       "         [-0.42405003]],\n",
       "\n",
       "        ...,\n",
       "\n",
       "        [[-0.42405003],\n",
       "         [-0.42405003],\n",
       "         [-0.42405003],\n",
       "         ...,\n",
       "         [-0.42405003],\n",
       "         [-0.42405003],\n",
       "         [-0.42405003]],\n",
       "\n",
       "        [[-0.42405003],\n",
       "         [-0.42405003],\n",
       "         [-0.42405003],\n",
       "         ...,\n",
       "         [-0.42405003],\n",
       "         [-0.42405003],\n",
       "         [-0.42405003]],\n",
       "\n",
       "        [[-0.42405003],\n",
       "         [-0.42405003],\n",
       "         [-0.42405003],\n",
       "         ...,\n",
       "         [-0.42405003],\n",
       "         [-0.42405003],\n",
       "         [-0.42405003]]],\n",
       "\n",
       "\n",
       "       [[[-0.42405003],\n",
       "         [-0.42405003],\n",
       "         [-0.42405003],\n",
       "         ...,\n",
       "         [-0.42405003],\n",
       "         [-0.42405003],\n",
       "         [-0.42405003]],\n",
       "\n",
       "        [[-0.42405003],\n",
       "         [-0.42405003],\n",
       "         [-0.42405003],\n",
       "         ...,\n",
       "         [-0.42405003],\n",
       "         [-0.42405003],\n",
       "         [-0.42405003]],\n",
       "\n",
       "        [[-0.42405003],\n",
       "         [-0.42405003],\n",
       "         [-0.42405003],\n",
       "         ...,\n",
       "         [-0.42405003],\n",
       "         [-0.42405003],\n",
       "         [-0.42405003]],\n",
       "\n",
       "        ...,\n",
       "\n",
       "        [[-0.42405003],\n",
       "         [-0.42405003],\n",
       "         [-0.42405003],\n",
       "         ...,\n",
       "         [-0.42405003],\n",
       "         [-0.42405003],\n",
       "         [-0.42405003]],\n",
       "\n",
       "        [[-0.42405003],\n",
       "         [-0.42405003],\n",
       "         [-0.42405003],\n",
       "         ...,\n",
       "         [-0.42405003],\n",
       "         [-0.42405003],\n",
       "         [-0.42405003]],\n",
       "\n",
       "        [[-0.42405003],\n",
       "         [-0.42405003],\n",
       "         [-0.42405003],\n",
       "         ...,\n",
       "         [-0.42405003],\n",
       "         [-0.42405003],\n",
       "         [-0.42405003]]]])"
      ]
     },
     "execution_count": 22,
     "metadata": {},
     "output_type": "execute_result"
    }
   ],
   "source": [
    "x_train"
   ]
  },
  {
   "cell_type": "code",
   "execution_count": 24,
   "metadata": {},
   "outputs": [
    {
     "data": {
      "text/plain": [
       "array([7, 1, 5, ..., 0, 4, 6], dtype=uint8)"
      ]
     },
     "execution_count": 24,
     "metadata": {},
     "output_type": "execute_result"
    }
   ],
   "source": [
    "y_train"
   ]
  },
  {
   "cell_type": "code",
   "execution_count": 25,
   "metadata": {},
   "outputs": [],
   "source": [
    "from tensorflow import keras"
   ]
  },
  {
   "cell_type": "code",
   "execution_count": 27,
   "metadata": {},
   "outputs": [],
   "source": [
    "num_labels = 10\n",
    "\n",
    "y_train = keras.utils.to_categorical(y_train)"
   ]
  },
  {
   "cell_type": "code",
   "execution_count": 28,
   "metadata": {},
   "outputs": [
    {
     "data": {
      "text/plain": [
       "array([[0., 0., 0., ..., 1., 0., 0.],\n",
       "       [0., 1., 0., ..., 0., 0., 0.],\n",
       "       [0., 0., 0., ..., 0., 0., 0.],\n",
       "       ...,\n",
       "       [1., 0., 0., ..., 0., 0., 0.],\n",
       "       [0., 0., 0., ..., 0., 0., 0.],\n",
       "       [0., 0., 0., ..., 0., 0., 0.]])"
      ]
     },
     "execution_count": 28,
     "metadata": {},
     "output_type": "execute_result"
    }
   ],
   "source": [
    "y_train"
   ]
  },
  {
   "cell_type": "code",
   "execution_count": 29,
   "metadata": {},
   "outputs": [],
   "source": [
    "y_val = keras.utils.to_categorical(y_val)\n",
    "y_test = keras.utils.to_categorical(y_test)"
   ]
  },
  {
   "cell_type": "markdown",
   "metadata": {},
   "source": [
    "Model"
   ]
  },
  {
   "cell_type": "code",
   "execution_count": 30,
   "metadata": {},
   "outputs": [],
   "source": [
    "from tensorflow.keras.models import Sequential\n",
    "from tensorflow.keras.layers import Dense , Dropout , Flatten , Input , Conv2D , MaxPool2D , AveragePooling2D"
   ]
  },
  {
   "cell_type": "code",
   "execution_count": 33,
   "metadata": {},
   "outputs": [],
   "source": [
    "model = Sequential()\n",
    "\n",
    "model.add(Conv2D(6, kernel_size=(5,5),strides=(1, 1), activation='tanh',input_shape = (28,28,1)))\n",
    "model.add(AveragePooling2D(pool_size=(5,5),strides=(1, 1)))\n",
    "model.add(Conv2D(6, kernel_size=(5,5),strides=(1, 1), activation='tanh',input_shape = (28,28,1)))\n",
    "model.add(AveragePooling2D(pool_size=(5,5),strides=(1, 1)))\n",
    "model.add(Conv2D(6, kernel_size=(5,5),strides=(1, 1), activation='tanh',input_shape = (28,28,1)))\n",
    "\n",
    "model.add(Flatten())\n",
    "model.add(Dense(84, activation='tanh'))\n",
    "model.add(Dense(num_labels, activation='softmax'))"
   ]
  },
  {
   "cell_type": "code",
   "execution_count": 34,
   "metadata": {},
   "outputs": [
    {
     "data": {
      "text/html": [
       "<pre style=\"white-space:pre;overflow-x:auto;line-height:normal;font-family:Menlo,'DejaVu Sans Mono',consolas,'Courier New',monospace\"><span style=\"font-weight: bold\">Model: \"sequential_2\"</span>\n",
       "</pre>\n"
      ],
      "text/plain": [
       "\u001b[1mModel: \"sequential_2\"\u001b[0m\n"
      ]
     },
     "metadata": {},
     "output_type": "display_data"
    },
    {
     "data": {
      "text/html": [
       "<pre style=\"white-space:pre;overflow-x:auto;line-height:normal;font-family:Menlo,'DejaVu Sans Mono',consolas,'Courier New',monospace\">┏━━━━━━━━━━━━━━━━━━━━━━━━━━━━━━━━━┳━━━━━━━━━━━━━━━━━━━━━━━━┳━━━━━━━━━━━━━━━┓\n",
       "┃<span style=\"font-weight: bold\"> Layer (type)                    </span>┃<span style=\"font-weight: bold\"> Output Shape           </span>┃<span style=\"font-weight: bold\">       Param # </span>┃\n",
       "┡━━━━━━━━━━━━━━━━━━━━━━━━━━━━━━━━━╇━━━━━━━━━━━━━━━━━━━━━━━━╇━━━━━━━━━━━━━━━┩\n",
       "│ conv2d_2 (<span style=\"color: #0087ff; text-decoration-color: #0087ff\">Conv2D</span>)               │ (<span style=\"color: #00d7ff; text-decoration-color: #00d7ff\">None</span>, <span style=\"color: #00af00; text-decoration-color: #00af00\">24</span>, <span style=\"color: #00af00; text-decoration-color: #00af00\">24</span>, <span style=\"color: #00af00; text-decoration-color: #00af00\">6</span>)      │           <span style=\"color: #00af00; text-decoration-color: #00af00\">156</span> │\n",
       "├─────────────────────────────────┼────────────────────────┼───────────────┤\n",
       "│ average_pooling2d               │ (<span style=\"color: #00d7ff; text-decoration-color: #00d7ff\">None</span>, <span style=\"color: #00af00; text-decoration-color: #00af00\">20</span>, <span style=\"color: #00af00; text-decoration-color: #00af00\">20</span>, <span style=\"color: #00af00; text-decoration-color: #00af00\">6</span>)      │             <span style=\"color: #00af00; text-decoration-color: #00af00\">0</span> │\n",
       "│ (<span style=\"color: #0087ff; text-decoration-color: #0087ff\">AveragePooling2D</span>)              │                        │               │\n",
       "├─────────────────────────────────┼────────────────────────┼───────────────┤\n",
       "│ conv2d_3 (<span style=\"color: #0087ff; text-decoration-color: #0087ff\">Conv2D</span>)               │ (<span style=\"color: #00d7ff; text-decoration-color: #00d7ff\">None</span>, <span style=\"color: #00af00; text-decoration-color: #00af00\">16</span>, <span style=\"color: #00af00; text-decoration-color: #00af00\">16</span>, <span style=\"color: #00af00; text-decoration-color: #00af00\">6</span>)      │           <span style=\"color: #00af00; text-decoration-color: #00af00\">906</span> │\n",
       "├─────────────────────────────────┼────────────────────────┼───────────────┤\n",
       "│ average_pooling2d_1             │ (<span style=\"color: #00d7ff; text-decoration-color: #00d7ff\">None</span>, <span style=\"color: #00af00; text-decoration-color: #00af00\">12</span>, <span style=\"color: #00af00; text-decoration-color: #00af00\">12</span>, <span style=\"color: #00af00; text-decoration-color: #00af00\">6</span>)      │             <span style=\"color: #00af00; text-decoration-color: #00af00\">0</span> │\n",
       "│ (<span style=\"color: #0087ff; text-decoration-color: #0087ff\">AveragePooling2D</span>)              │                        │               │\n",
       "├─────────────────────────────────┼────────────────────────┼───────────────┤\n",
       "│ conv2d_4 (<span style=\"color: #0087ff; text-decoration-color: #0087ff\">Conv2D</span>)               │ (<span style=\"color: #00d7ff; text-decoration-color: #00d7ff\">None</span>, <span style=\"color: #00af00; text-decoration-color: #00af00\">8</span>, <span style=\"color: #00af00; text-decoration-color: #00af00\">8</span>, <span style=\"color: #00af00; text-decoration-color: #00af00\">6</span>)        │           <span style=\"color: #00af00; text-decoration-color: #00af00\">906</span> │\n",
       "├─────────────────────────────────┼────────────────────────┼───────────────┤\n",
       "│ flatten (<span style=\"color: #0087ff; text-decoration-color: #0087ff\">Flatten</span>)               │ (<span style=\"color: #00d7ff; text-decoration-color: #00d7ff\">None</span>, <span style=\"color: #00af00; text-decoration-color: #00af00\">384</span>)            │             <span style=\"color: #00af00; text-decoration-color: #00af00\">0</span> │\n",
       "├─────────────────────────────────┼────────────────────────┼───────────────┤\n",
       "│ dense (<span style=\"color: #0087ff; text-decoration-color: #0087ff\">Dense</span>)                   │ (<span style=\"color: #00d7ff; text-decoration-color: #00d7ff\">None</span>, <span style=\"color: #00af00; text-decoration-color: #00af00\">84</span>)             │        <span style=\"color: #00af00; text-decoration-color: #00af00\">32,340</span> │\n",
       "├─────────────────────────────────┼────────────────────────┼───────────────┤\n",
       "│ dense_1 (<span style=\"color: #0087ff; text-decoration-color: #0087ff\">Dense</span>)                 │ (<span style=\"color: #00d7ff; text-decoration-color: #00d7ff\">None</span>, <span style=\"color: #00af00; text-decoration-color: #00af00\">10</span>)             │           <span style=\"color: #00af00; text-decoration-color: #00af00\">850</span> │\n",
       "└─────────────────────────────────┴────────────────────────┴───────────────┘\n",
       "</pre>\n"
      ],
      "text/plain": [
       "┏━━━━━━━━━━━━━━━━━━━━━━━━━━━━━━━━━┳━━━━━━━━━━━━━━━━━━━━━━━━┳━━━━━━━━━━━━━━━┓\n",
       "┃\u001b[1m \u001b[0m\u001b[1mLayer (type)                   \u001b[0m\u001b[1m \u001b[0m┃\u001b[1m \u001b[0m\u001b[1mOutput Shape          \u001b[0m\u001b[1m \u001b[0m┃\u001b[1m \u001b[0m\u001b[1m      Param #\u001b[0m\u001b[1m \u001b[0m┃\n",
       "┡━━━━━━━━━━━━━━━━━━━━━━━━━━━━━━━━━╇━━━━━━━━━━━━━━━━━━━━━━━━╇━━━━━━━━━━━━━━━┩\n",
       "│ conv2d_2 (\u001b[38;5;33mConv2D\u001b[0m)               │ (\u001b[38;5;45mNone\u001b[0m, \u001b[38;5;34m24\u001b[0m, \u001b[38;5;34m24\u001b[0m, \u001b[38;5;34m6\u001b[0m)      │           \u001b[38;5;34m156\u001b[0m │\n",
       "├─────────────────────────────────┼────────────────────────┼───────────────┤\n",
       "│ average_pooling2d               │ (\u001b[38;5;45mNone\u001b[0m, \u001b[38;5;34m20\u001b[0m, \u001b[38;5;34m20\u001b[0m, \u001b[38;5;34m6\u001b[0m)      │             \u001b[38;5;34m0\u001b[0m │\n",
       "│ (\u001b[38;5;33mAveragePooling2D\u001b[0m)              │                        │               │\n",
       "├─────────────────────────────────┼────────────────────────┼───────────────┤\n",
       "│ conv2d_3 (\u001b[38;5;33mConv2D\u001b[0m)               │ (\u001b[38;5;45mNone\u001b[0m, \u001b[38;5;34m16\u001b[0m, \u001b[38;5;34m16\u001b[0m, \u001b[38;5;34m6\u001b[0m)      │           \u001b[38;5;34m906\u001b[0m │\n",
       "├─────────────────────────────────┼────────────────────────┼───────────────┤\n",
       "│ average_pooling2d_1             │ (\u001b[38;5;45mNone\u001b[0m, \u001b[38;5;34m12\u001b[0m, \u001b[38;5;34m12\u001b[0m, \u001b[38;5;34m6\u001b[0m)      │             \u001b[38;5;34m0\u001b[0m │\n",
       "│ (\u001b[38;5;33mAveragePooling2D\u001b[0m)              │                        │               │\n",
       "├─────────────────────────────────┼────────────────────────┼───────────────┤\n",
       "│ conv2d_4 (\u001b[38;5;33mConv2D\u001b[0m)               │ (\u001b[38;5;45mNone\u001b[0m, \u001b[38;5;34m8\u001b[0m, \u001b[38;5;34m8\u001b[0m, \u001b[38;5;34m6\u001b[0m)        │           \u001b[38;5;34m906\u001b[0m │\n",
       "├─────────────────────────────────┼────────────────────────┼───────────────┤\n",
       "│ flatten (\u001b[38;5;33mFlatten\u001b[0m)               │ (\u001b[38;5;45mNone\u001b[0m, \u001b[38;5;34m384\u001b[0m)            │             \u001b[38;5;34m0\u001b[0m │\n",
       "├─────────────────────────────────┼────────────────────────┼───────────────┤\n",
       "│ dense (\u001b[38;5;33mDense\u001b[0m)                   │ (\u001b[38;5;45mNone\u001b[0m, \u001b[38;5;34m84\u001b[0m)             │        \u001b[38;5;34m32,340\u001b[0m │\n",
       "├─────────────────────────────────┼────────────────────────┼───────────────┤\n",
       "│ dense_1 (\u001b[38;5;33mDense\u001b[0m)                 │ (\u001b[38;5;45mNone\u001b[0m, \u001b[38;5;34m10\u001b[0m)             │           \u001b[38;5;34m850\u001b[0m │\n",
       "└─────────────────────────────────┴────────────────────────┴───────────────┘\n"
      ]
     },
     "metadata": {},
     "output_type": "display_data"
    },
    {
     "data": {
      "text/html": [
       "<pre style=\"white-space:pre;overflow-x:auto;line-height:normal;font-family:Menlo,'DejaVu Sans Mono',consolas,'Courier New',monospace\"><span style=\"font-weight: bold\"> Total params: </span><span style=\"color: #00af00; text-decoration-color: #00af00\">35,158</span> (137.34 KB)\n",
       "</pre>\n"
      ],
      "text/plain": [
       "\u001b[1m Total params: \u001b[0m\u001b[38;5;34m35,158\u001b[0m (137.34 KB)\n"
      ]
     },
     "metadata": {},
     "output_type": "display_data"
    },
    {
     "data": {
      "text/html": [
       "<pre style=\"white-space:pre;overflow-x:auto;line-height:normal;font-family:Menlo,'DejaVu Sans Mono',consolas,'Courier New',monospace\"><span style=\"font-weight: bold\"> Trainable params: </span><span style=\"color: #00af00; text-decoration-color: #00af00\">35,158</span> (137.34 KB)\n",
       "</pre>\n"
      ],
      "text/plain": [
       "\u001b[1m Trainable params: \u001b[0m\u001b[38;5;34m35,158\u001b[0m (137.34 KB)\n"
      ]
     },
     "metadata": {},
     "output_type": "display_data"
    },
    {
     "data": {
      "text/html": [
       "<pre style=\"white-space:pre;overflow-x:auto;line-height:normal;font-family:Menlo,'DejaVu Sans Mono',consolas,'Courier New',monospace\"><span style=\"font-weight: bold\"> Non-trainable params: </span><span style=\"color: #00af00; text-decoration-color: #00af00\">0</span> (0.00 B)\n",
       "</pre>\n"
      ],
      "text/plain": [
       "\u001b[1m Non-trainable params: \u001b[0m\u001b[38;5;34m0\u001b[0m (0.00 B)\n"
      ]
     },
     "metadata": {},
     "output_type": "display_data"
    }
   ],
   "source": [
    "model.summary()"
   ]
  },
  {
   "cell_type": "code",
   "execution_count": 35,
   "metadata": {},
   "outputs": [],
   "source": [
    "model.compile(loss = keras.losses.categorical_crossentropy, optimizer='adam',metrics=['accuracy'])"
   ]
  },
  {
   "cell_type": "code",
   "execution_count": 37,
   "metadata": {},
   "outputs": [
    {
     "name": "stdout",
     "output_type": "stream",
     "text": [
      "Epoch 1/5\n",
      "\u001b[1m1688/1688\u001b[0m \u001b[32m━━━━━━━━━━━━━━━━━━━━\u001b[0m\u001b[37m\u001b[0m \u001b[1m18s\u001b[0m 11ms/step - accuracy: 0.9851 - loss: 0.0463 - val_accuracy: 0.9743 - val_loss: 0.0833\n",
      "Epoch 2/5\n",
      "\u001b[1m1688/1688\u001b[0m \u001b[32m━━━━━━━━━━━━━━━━━━━━\u001b[0m\u001b[37m\u001b[0m \u001b[1m16s\u001b[0m 10ms/step - accuracy: 0.9853 - loss: 0.0464 - val_accuracy: 0.9823 - val_loss: 0.0625\n",
      "Epoch 3/5\n",
      "\u001b[1m1688/1688\u001b[0m \u001b[32m━━━━━━━━━━━━━━━━━━━━\u001b[0m\u001b[37m\u001b[0m \u001b[1m16s\u001b[0m 10ms/step - accuracy: 0.9874 - loss: 0.0410 - val_accuracy: 0.9815 - val_loss: 0.0628\n",
      "Epoch 4/5\n",
      "\u001b[1m1688/1688\u001b[0m \u001b[32m━━━━━━━━━━━━━━━━━━━━\u001b[0m\u001b[37m\u001b[0m \u001b[1m16s\u001b[0m 10ms/step - accuracy: 0.9874 - loss: 0.0419 - val_accuracy: 0.9833 - val_loss: 0.0560\n",
      "Epoch 5/5\n",
      "\u001b[1m1688/1688\u001b[0m \u001b[32m━━━━━━━━━━━━━━━━━━━━\u001b[0m\u001b[37m\u001b[0m \u001b[1m16s\u001b[0m 9ms/step - accuracy: 0.9872 - loss: 0.0403 - val_accuracy: 0.9843 - val_loss: 0.0578\n"
     ]
    }
   ],
   "source": [
    "history = model.fit(x_train,y_train, batch_size = 32, epochs = 5, verbose = 1, validation_data = (x_val, y_val))"
   ]
  },
  {
   "cell_type": "code",
   "execution_count": 38,
   "metadata": {},
   "outputs": [
    {
     "name": "stdout",
     "output_type": "stream",
     "text": [
      "\u001b[1m313/313\u001b[0m \u001b[32m━━━━━━━━━━━━━━━━━━━━\u001b[0m\u001b[37m\u001b[0m \u001b[1m2s\u001b[0m 7ms/step - accuracy: 0.9816 - loss: 0.0589\n"
     ]
    }
   ],
   "source": [
    "score = model.evaluate(x_test,y_test,verbose = 1)"
   ]
  },
  {
   "cell_type": "code",
   "execution_count": 39,
   "metadata": {},
   "outputs": [
    {
     "data": {
      "text/plain": [
       "[0.0513768307864666, 0.9843999743461609]"
      ]
     },
     "execution_count": 39,
     "metadata": {},
     "output_type": "execute_result"
    }
   ],
   "source": [
    "score"
   ]
  },
  {
   "cell_type": "code",
   "execution_count": null,
   "metadata": {},
   "outputs": [],
   "source": []
  }
 ],
 "metadata": {
  "kernelspec": {
   "display_name": "Python 3 (ipykernel)",
   "language": "python",
   "name": "python3"
  },
  "language_info": {
   "codemirror_mode": {
    "name": "ipython",
    "version": 3
   },
   "file_extension": ".py",
   "mimetype": "text/x-python",
   "name": "python",
   "nbconvert_exporter": "python",
   "pygments_lexer": "ipython3",
   "version": "3.12.4"
  }
 },
 "nbformat": 4,
 "nbformat_minor": 4
}
